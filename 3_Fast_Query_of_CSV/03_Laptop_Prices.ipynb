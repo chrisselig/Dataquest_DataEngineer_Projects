{
 "cells": [
  {
   "cell_type": "markdown",
   "metadata": {},
   "source": [
    "# Laptop Prices Project"
   ]
  },
  {
   "cell_type": "markdown",
   "metadata": {},
   "source": [
    "Goal of this project is to answer some common business problems about laptop prices. We will create a class to represent the stores inventory."
   ]
  },
  {
   "cell_type": "markdown",
   "metadata": {},
   "source": [
    "Here are some questions we would like to answer:\n",
    "\n",
    "1. Given a laptop id, find the corresponding data.\n",
    "2. Given an amount of money, find whether there are two laptops whose total price is that given amount.\n",
    "3. Identify all laptops whose price is falls withing a given budget."
   ]
  },
  {
   "cell_type": "markdown",
   "metadata": {},
   "source": [
    "### The Data"
   ]
  },
  {
   "cell_type": "code",
   "execution_count": 1,
   "metadata": {},
   "outputs": [],
   "source": [
    "# Load the data\n",
    "import csv\n",
    "with open('C:/Personal/BIDAMIA_GoogleDrive/Business Intelligence/DataQuest/4_Alogorithm Complexity/Project/laptops.csv') as file:\n",
    "    laptop = list(csv.reader(file))"
   ]
  },
  {
   "cell_type": "code",
   "execution_count": 2,
   "metadata": {},
   "outputs": [
    {
     "name": "stdout",
     "output_type": "stream",
     "text": [
      "['', 'Company', 'Product', 'TypeName', 'Inches', 'ScreenResolution', 'Cpu', 'Ram', 'Memory', 'Gpu', 'OpSys', 'Weight', 'Price_euros'] \n",
      "\n",
      "['1', 'Apple', 'MacBook Pro', 'Ultrabook', '13.3', 'IPS Panel Retina Display 2560x1600', 'Intel Core i5 2.3GHz', '8GB', '128GB SSD', 'Intel Iris Plus Graphics 640', 'macOS', '1.37kg', '1339.69'] \n",
      "\n",
      "['2', 'Apple', 'Macbook Air', 'Ultrabook', '13.3', '1440x900', 'Intel Core i5 1.8GHz', '8GB', '128GB Flash Storage', 'Intel HD Graphics 6000', 'macOS', '1.34kg', '898.94'] \n",
      "\n"
     ]
    }
   ],
   "source": [
    "# View the first 3 rows\n",
    "for i in laptop[:3]:\n",
    "    print(i,'\\n')"
   ]
  },
  {
   "cell_type": "markdown",
   "metadata": {},
   "source": [
    "Below is a description of the columns in the dataset:\n",
    "\n",
    "ID: A unique identifier for the laptop.\n",
    "\n",
    "Company: The name of the company who produces the laptop.\n",
    "\n",
    "Product: The name of the laptop.\n",
    "\n",
    "TypeName: The type of laptop.\n",
    "\n",
    "Inches: The size of the screen in inches.\n",
    "\n",
    "ScreenResolution: The resolution of the screen.\n",
    "\n",
    "CPU: The laptop CPU.\n",
    "\n",
    "RAM: The amount of RAM in the laptop.\n",
    "\n",
    "Memory: The size of the hard drive.\n",
    "\n",
    "GPU: The graphics card name.\n",
    "\n",
    "OpSys: The name of the operating system.\n",
    "\n",
    "Weight: The laptop weight.\n",
    "\n",
    "Price: The price of the laptop."
   ]
  },
  {
   "cell_type": "code",
   "execution_count": 3,
   "metadata": {},
   "outputs": [],
   "source": [
    "# Save header to own list\n",
    "header = laptop[0]\n",
    "\n",
    "# Assign renaming rows to a variable named rows\n",
    "rows = laptop[1:]"
   ]
  },
  {
   "cell_type": "markdown",
   "metadata": {},
   "source": [
    "### Create the Inventory Class"
   ]
  },
  {
   "cell_type": "code",
   "execution_count": 4,
   "metadata": {},
   "outputs": [],
   "source": [
    "class Inventory():\n",
    "    def __init__(self, csv_filename):\n",
    "        with open(csv_filename) as file:\n",
    "            reader = csv.reader(file)\n",
    "            rows = list(reader)\n",
    "        self.header = rows[0]\n",
    "        self.rows = rows[1:]\n",
    "        for i in self.rows:\n",
    "            i[-1] = float(i[-1])\n",
    "            "
   ]
  },
  {
   "cell_type": "code",
   "execution_count": 5,
   "metadata": {},
   "outputs": [],
   "source": [
    "# Test the class\n",
    "inventory = Inventory('C:/Personal/BIDAMIA_GoogleDrive/Business Intelligence/DataQuest/4_Alogorithm Complexity/Project/laptops.csv')"
   ]
  },
  {
   "cell_type": "code",
   "execution_count": 6,
   "metadata": {},
   "outputs": [
    {
     "name": "stdout",
     "output_type": "stream",
     "text": [
      "['', 'Company', 'Product', 'TypeName', 'Inches', 'ScreenResolution', 'Cpu', 'Ram', 'Memory', 'Gpu', 'OpSys', 'Weight', 'Price_euros']\n"
     ]
    }
   ],
   "source": [
    "print(inventory.header)"
   ]
  },
  {
   "cell_type": "code",
   "execution_count": 7,
   "metadata": {},
   "outputs": [
    {
     "name": "stdout",
     "output_type": "stream",
     "text": [
      "1303\n"
     ]
    }
   ],
   "source": [
    "print(len(inventory.rows))"
   ]
  },
  {
   "cell_type": "markdown",
   "metadata": {},
   "source": [
    "### Create a Method to Look up Laptop from Identifier"
   ]
  },
  {
   "cell_type": "code",
   "execution_count": 8,
   "metadata": {},
   "outputs": [],
   "source": [
    "class Inventory():\n",
    "    def __init__(self, csv_filename):\n",
    "        with open(csv_filename) as file:\n",
    "            reader = csv.reader(file)\n",
    "            rows = list(reader)\n",
    "        self.header = rows[0]\n",
    "        self.rows = rows[1:]\n",
    "        for i in self.rows:\n",
    "            i[-1] = float(i[-1])\n",
    "            \n",
    "    def get_laptop_from_id(self, laptop_id):\n",
    "        for row in self.rows:\n",
    "            if row[0] == laptop_id:\n",
    "                return row\n",
    "        return None\n",
    "    "
   ]
  },
  {
   "cell_type": "code",
   "execution_count": 9,
   "metadata": {},
   "outputs": [
    {
     "name": "stdout",
     "output_type": "stream",
     "text": [
      "['2', 'Apple', 'Macbook Air', 'Ultrabook', '13.3', '1440x900', 'Intel Core i5 1.8GHz', '8GB', '128GB Flash Storage', 'Intel HD Graphics 6000', 'macOS', '1.34kg', 898.94]\n",
      "None\n"
     ]
    }
   ],
   "source": [
    "# Store the data file path\n",
    "file_path = 'C:/Personal/BIDAMIA_GoogleDrive/Business Intelligence/DataQuest/4_Alogorithm Complexity/Project/laptops.csv'\n",
    "\n",
    "# Test the updated class\n",
    "inventory = Inventory(file_path)\n",
    "print(inventory.get_laptop_from_id('2'))\n",
    "print(inventory.get_laptop_from_id('3362736'))"
   ]
  },
  {
   "cell_type": "markdown",
   "metadata": {},
   "source": [
    "The above algorithm had to loop through every row to find the laptop id or decide the id doesn't exist. For only a small dataset it is probably ok but as the success of your business grows, there will be more data. \n",
    "\n",
    "Below, we will preprocess the data to increase query performance."
   ]
  },
  {
   "cell_type": "code",
   "execution_count": 10,
   "metadata": {},
   "outputs": [],
   "source": [
    "# Update the class for the new process\n",
    "class Inventory():\n",
    "    def __init__(self, csv_filename):\n",
    "        with open(csv_filename) as file:\n",
    "            reader = csv.reader(file)\n",
    "            rows = list(reader)\n",
    "        self.header = rows[0]\n",
    "        self.rows = rows[1:]\n",
    "        for i in self.rows:\n",
    "            i[-1] = float(i[-1])\n",
    "        self.id_to_row = {}\n",
    "        for i in self.rows:\n",
    "            self.id_to_row[i[0]] = i\n",
    "            \n",
    "    def get_laptop_from_id(self, laptop_id):\n",
    "        for row in self.rows:\n",
    "            if row[0] == laptop_id:\n",
    "                return row\n",
    "        return None\n",
    "    \n",
    "    def get_laptop_from_id_fast(self, laptop_id):\n",
    "        if laptop_id in self.id_to_row:\n",
    "            return self.id_to_row[laptop_id]\n",
    "        return None\n",
    "        \n",
    "    "
   ]
  },
  {
   "cell_type": "code",
   "execution_count": 11,
   "metadata": {},
   "outputs": [
    {
     "name": "stdout",
     "output_type": "stream",
     "text": [
      "['2', 'Apple', 'Macbook Air', 'Ultrabook', '13.3', '1440x900', 'Intel Core i5 1.8GHz', '8GB', '128GB Flash Storage', 'Intel HD Graphics 6000', 'macOS', '1.34kg', 898.94]\n",
      "\n",
      "\n",
      "None\n"
     ]
    }
   ],
   "source": [
    "inventory = Inventory(file_path)\n",
    "print(inventory.get_laptop_from_id_fast('2'))\n",
    "print('\\n')\n",
    "print(inventory.get_laptop_from_id_fast('3362736'))"
   ]
  },
  {
   "cell_type": "markdown",
   "metadata": {},
   "source": [
    "Now we will compare the performance between the two algorithm. To do so, I will import the time and random module and calculate the elapsed times for each algorithm.\n",
    "\n",
    "In general, for a given function, this is how to calculate the elapsed time: \n",
    "\n",
    "start = time.time()\n",
    "func()\n",
    "end = time.time()\n",
    "elapsed = end - start"
   ]
  },
  {
   "cell_type": "code",
   "execution_count": 12,
   "metadata": {},
   "outputs": [
    {
     "name": "stdout",
     "output_type": "stream",
     "text": [
      "Total time without preprocessing:  0.4528\n",
      "\n",
      "\n",
      "Total time with preprocessing:  0.003\n",
      "\n",
      "\n",
      "Improvement in performance is:  150.72 times faster\n"
     ]
    }
   ],
   "source": [
    "# import time & random module\n",
    "import time\n",
    "import random\n",
    "\n",
    "# Generate random ids\n",
    "ids = [str(random.randint(1000000,9999999)) for _ in range(10000)]\n",
    "\n",
    "inventory = Inventory(file_path)\n",
    "total_time_no_dict = 0\n",
    "for id in ids:\n",
    "    start = time.time()\n",
    "    inventory.get_laptop_from_id(id)\n",
    "    end = time.time()\n",
    "    total_time_no_dict += end - start\n",
    "    \n",
    "total_time_dict = 0\n",
    "for id in ids:\n",
    "    start = time.time()\n",
    "    inventory.get_laptop_from_id_fast(id)\n",
    "    end = time.time()\n",
    "    total_time_dict += end - start\n",
    "    \n",
    "performance_gain = round(total_time_no_dict/total_time_dict,2)\n",
    "print('Total time without preprocessing: ',round(total_time_no_dict,4))\n",
    "print('\\n')\n",
    "print('Total time with preprocessing: ', round(total_time_dict,4))\n",
    "print('\\n')\n",
    "print('Improvement in performance is: ',performance_gain,'times faster')"
   ]
  },
  {
   "cell_type": "markdown",
   "metadata": {},
   "source": [
    "Next we want to run a gift card promotion with an x amount of dollars on it. The customer can buy a maximum of 2 laptops with it. We want the customer to be able to spend the entire amount of money on the giftcard so we want to know which combination of two laptops can use the entire amount."
   ]
  },
  {
   "cell_type": "code",
   "execution_count": 13,
   "metadata": {},
   "outputs": [],
   "source": [
    "# Update the class for the new method\n",
    "class Inventory():\n",
    "    def __init__(self, csv_filename):\n",
    "        with open(csv_filename) as file:\n",
    "            reader = csv.reader(file)\n",
    "            rows = list(reader)\n",
    "        self.header = rows[0]\n",
    "        self.rows = rows[1:]\n",
    "        for i in self.rows:\n",
    "            i[-1] = float(i[-1])\n",
    "        self.id_to_row = {}\n",
    "        for i in self.rows:\n",
    "            self.id_to_row[i[0]] = i\n",
    "            \n",
    "    def get_laptop_from_id(self, laptop_id):\n",
    "        for row in self.rows:\n",
    "            if row[0] == laptop_id:\n",
    "                return row\n",
    "        return None\n",
    "    \n",
    "    def get_laptop_from_id_fast(self, laptop_id):\n",
    "        if laptop_id in self.id_to_row:\n",
    "            return self.id_to_row[laptop_id]\n",
    "        return None\n",
    "    \n",
    "    def check_promotion_dollars(self, dollars):\n",
    "        for i in self.rows:\n",
    "            if i[-1] == dollars:\n",
    "                return True\n",
    "        for i in self.rows:\n",
    "            for j in self.rows:\n",
    "                if i[-1] + j[-1] == dollars:\n",
    "                    return True\n",
    "        return False\n",
    "        "
   ]
  },
  {
   "cell_type": "code",
   "execution_count": 14,
   "metadata": {},
   "outputs": [
    {
     "name": "stdout",
     "output_type": "stream",
     "text": [
      "True\n",
      "False\n"
     ]
    }
   ],
   "source": [
    "# Test the new method\n",
    "inventory = Inventory(file_path)\n",
    "\n",
    "print(inventory.check_promotion_dollars(1000))\n",
    "print(inventory.check_promotion_dollars(442))"
   ]
  },
  {
   "cell_type": "markdown",
   "metadata": {},
   "source": [
    "### Optimize for Performance"
   ]
  },
  {
   "cell_type": "markdown",
   "metadata": {},
   "source": [
    "Next we will optimize the check_promotion_dollars method for performance by preprocessing the data."
   ]
  },
  {
   "cell_type": "code",
   "execution_count": 15,
   "metadata": {},
   "outputs": [],
   "source": [
    "# Optimize check_promotion_dollars method\n",
    "class Inventory():\n",
    "    def __init__(self, csv_filename):\n",
    "        with open(csv_filename) as file:\n",
    "            reader = csv.reader(file)\n",
    "            rows = list(reader)\n",
    "        self.header = rows[0]\n",
    "        self.rows = rows[1:]\n",
    "        for i in self.rows:\n",
    "            i[-1] = float(i[-1])\n",
    "        self.id_to_row = {}\n",
    "        for i in self.rows:\n",
    "            self.id_to_row[i[0]] = i\n",
    "        # Create an empty price set to preprocess data\n",
    "        self.prices = set()\n",
    "        # Asign all prices to the set\n",
    "        for row in self.rows:\n",
    "            self.prices.add(row[-1])\n",
    "            \n",
    "    def get_laptop_from_id(self, laptop_id):\n",
    "        for row in self.rows:\n",
    "            if row[0] == laptop_id:\n",
    "                return row\n",
    "        return None\n",
    "    \n",
    "    def get_laptop_from_id_fast(self, laptop_id):\n",
    "        if laptop_id in self.id_to_row:\n",
    "            return self.id_to_row[laptop_id]\n",
    "        return None\n",
    "    \n",
    "    def check_promotion_dollars(self, dollars):\n",
    "        for i in self.rows:\n",
    "            if i[-1] == dollars:\n",
    "                return True\n",
    "        for i in self.rows:\n",
    "            for j in self.rows:\n",
    "                if i[-1] + j[-1] == dollars:\n",
    "                    return True\n",
    "        return False\n",
    "    \n",
    "    # Create an optimized check_promotion_dolars_fast method\n",
    "    def check_promotion_dollars_fast(self, dollars):\n",
    "        if dollars in self.prices:\n",
    "            return True\n",
    "        for price in self.prices:\n",
    "            if dollars - price in self.prices:\n",
    "                return True\n",
    "        return False"
   ]
  },
  {
   "cell_type": "code",
   "execution_count": 16,
   "metadata": {},
   "outputs": [
    {
     "name": "stdout",
     "output_type": "stream",
     "text": [
      "True\n",
      "False\n"
     ]
    }
   ],
   "source": [
    "# Check the method\n",
    "inventory = Inventory(file_path)\n",
    "print(inventory.check_promotion_dollars_fast(1000))\n",
    "print(inventory.check_promotion_dollars_fast(442))"
   ]
  },
  {
   "cell_type": "markdown",
   "metadata": {},
   "source": [
    "Time to compare the performance of the new method"
   ]
  },
  {
   "cell_type": "code",
   "execution_count": 21,
   "metadata": {},
   "outputs": [
    {
     "name": "stdout",
     "output_type": "stream",
     "text": [
      "Total time without preprocessing:  1.1579\n",
      "\n",
      "\n",
      "Total time with preprocessing:  0.001\n",
      "\n",
      "\n",
      "Improvement in performance is:  1163.85 times faster\n"
     ]
    }
   ],
   "source": [
    "# Create some random numbers to test\n",
    "\n",
    "prices = [random.randint(100, 5000) for _ in range(100)] \n",
    "\n",
    "inventory = Inventory(file_path)                     \n",
    "\n",
    "total_time_no_dict = 0                                   \n",
    "for price in prices:                                     \n",
    "    start = time.time()                                  \n",
    "    inventory.check_promotion_dollars(price)             \n",
    "    end = time.time()                                    \n",
    "    total_time_no_dict += end - start                    \n",
    "    \n",
    "total_time_dict = 0                                      \n",
    "for price in prices:                                     \n",
    "    start = time.time()                                 \n",
    "    inventory.check_promotion_dollars_fast(price)        \n",
    "    end = time.time()                                    \n",
    "    total_time_dict += end - start                       \n",
    "        \n",
    "performance_gain = round(total_time_no_dict/total_time_dict,2)\n",
    "print('Total time without preprocessing: ',round(total_time_no_dict,4))\n",
    "print('\\n')\n",
    "print('Total time with preprocessing: ', round(total_time_dict,4))\n",
    "print('\\n')\n",
    "print('Improvement in performance is: ',performance_gain,'times faster')"
   ]
  },
  {
   "cell_type": "markdown",
   "metadata": {},
   "source": [
    "### Search for all Laptops within a Budget"
   ]
  },
  {
   "cell_type": "markdown",
   "metadata": {},
   "source": [
    "Next, I will create a method that returns all the laptops that have prices at or below a given budget. If we sort all of the prices, a binary search algorithm can be used."
   ]
  },
  {
   "cell_type": "code",
   "execution_count": 35,
   "metadata": {},
   "outputs": [],
   "source": [
    "def row_price(row):\n",
    "    return row[-1]\n",
    "\n",
    "class Inventory():\n",
    "    def __init__(self, csv_filename):\n",
    "        with open(csv_filename) as file:\n",
    "            reader = csv.reader(file)\n",
    "            rows = list(reader)\n",
    "        self.header = rows[0]\n",
    "        self.rows = rows[1:]\n",
    "        for i in self.rows:\n",
    "            i[-1] = float(i[-1])\n",
    "        self.id_to_row = {}\n",
    "        for i in self.rows:\n",
    "            self.id_to_row[i[0]] = i\n",
    "        self.prices = set()\n",
    "        for row in self.rows:\n",
    "            self.prices.add(row[-1])\n",
    "        # Sort the data\n",
    "        self.rows_by_price = sorted(self.rows, key = row_price)\n",
    "        \n",
    "    def get_laptop_from_id(self, laptop_id):\n",
    "        for row in self.rows:\n",
    "            if row[0] == laptop_id:\n",
    "                return row\n",
    "        return None\n",
    "    \n",
    "    def get_laptop_from_id_fast(self, laptop_id):\n",
    "        if laptop_id in self.id_to_row:\n",
    "            return self.id_to_row[laptop_id]\n",
    "        return None\n",
    "    \n",
    "    def check_promotion_dollars(self, dollars):\n",
    "        for i in self.rows:\n",
    "            if i[-1] == dollars:\n",
    "                return True\n",
    "        for i in self.rows:\n",
    "            for j in self.rows:\n",
    "                if i[-1] + j[-1] == dollars:\n",
    "                    return True\n",
    "        return False\n",
    "    \n",
    "    def check_promotion_dollars_fast(self, dollars):\n",
    "        if dollars in self.prices:\n",
    "            return True\n",
    "        for price in self.prices:\n",
    "            if dollars - price in self.prices:\n",
    "                return True\n",
    "        return False\n",
    "    \n",
    "    # add a binary search algorithm\n",
    "    def find_laptop_with_price(self, target_price):\n",
    "        range_start = 0                                   \n",
    "        range_end = len(self.rows_by_price) - 1                       \n",
    "        while range_start < range_end:\n",
    "            range_middle = (range_end + range_start) // 2  \n",
    "            value = self.rows_by_price[range_middle][-1]\n",
    "            if value == target_price:                            \n",
    "                return range_middle                        \n",
    "            elif value < target_price:                           \n",
    "                range_start = range_middle + 1             \n",
    "            else:                                          \n",
    "                range_end = range_middle - 1 \n",
    "        if self.rows_by_price[range_start][-1] != target_price:                  \n",
    "            return -1                                      \n",
    "        return range_start\n",
    "    \n",
    "    \n",
    "    def find_first_laptop_more_expensive(self, target_price): # Step 2\n",
    "        range_start = 0                                   \n",
    "        range_end = len(self.rows_by_price) - 1                   \n",
    "        while range_start < range_end:\n",
    "            range_middle = (range_end + range_start) // 2  \n",
    "            price = self.rows_by_price[range_middle][-1]\n",
    "            if price > target_price:\n",
    "                range_end = range_middle\n",
    "            else:\n",
    "                range_start = range_middle + 1\n",
    "        if self.rows_by_price[range_start][-1] <= target_price:                  \n",
    "            return -1                                   \n",
    "        return range_start"
   ]
  },
  {
   "cell_type": "code",
   "execution_count": 36,
   "metadata": {},
   "outputs": [
    {
     "name": "stdout",
     "output_type": "stream",
     "text": [
      "683\n",
      "-1\n"
     ]
    }
   ],
   "source": [
    "# Test the new method\n",
    "inventory = Inventory(file_path)\n",
    "\n",
    "print(inventory.find_first_laptop_more_expensive(1000))\n",
    "print(inventory.find_first_laptop_more_expensive(10000))"
   ]
  }
 ],
 "metadata": {
  "kernelspec": {
   "display_name": "Python 3",
   "language": "python",
   "name": "python3"
  },
  "language_info": {
   "codemirror_mode": {
    "name": "ipython",
    "version": 3
   },
   "file_extension": ".py",
   "mimetype": "text/x-python",
   "name": "python",
   "nbconvert_exporter": "python",
   "pygments_lexer": "ipython3",
   "version": "3.7.6"
  }
 },
 "nbformat": 4,
 "nbformat_minor": 4
}
