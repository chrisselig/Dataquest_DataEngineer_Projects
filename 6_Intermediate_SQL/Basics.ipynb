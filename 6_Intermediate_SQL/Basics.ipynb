{
 "cells": [
  {
   "cell_type": "markdown",
   "metadata": {
    "collapsed": true
   },
   "source": [
    "# Answering Business Questions with SQL"
   ]
  },
  {
   "cell_type": "markdown",
   "metadata": {},
   "source": [
    "This project is from the intermediate SQL course in the DataQuest data engineering certificate."
   ]
  },
  {
   "cell_type": "markdown",
   "metadata": {},
   "source": [
    "### Import Modules "
   ]
  },
  {
   "cell_type": "code",
   "execution_count": 30,
   "metadata": {
    "collapsed": true
   },
   "outputs": [],
   "source": [
    "import sqlite3\n",
    "import pandas as pd\n",
    "\n",
    "db = 'chinook.db'"
   ]
  },
  {
   "cell_type": "markdown",
   "metadata": {},
   "source": [
    "### Define some Helper Functions"
   ]
  },
  {
   "cell_type": "code",
   "execution_count": 31,
   "metadata": {
    "collapsed": false
   },
   "outputs": [],
   "source": [
    "# This function will run a sql query and return as a pandas dataframe\n",
    "def run_query(q):\n",
    "    with sqlite3.connect(db) as conn:\n",
    "        return pd.read_sql(q, conn)\n",
    "    \n",
    "# Function that takes a sql command and executes using sqlite module. \n",
    "    # Note, won't return tables\n",
    "def run_command(q):\n",
    "    with sqlite3.connect(db) as conn:\n",
    "        conn.isolation_level = None\n",
    "        conn.execute(c)\n",
    "\n",
    "# Function that calls run_query and returns a list of all tables and views in the database\n",
    "def show_tables():\n",
    "    q = '''\n",
    "    SELECT\n",
    "        name,\n",
    "        type\n",
    "    FROM sqlite_master\n",
    "    WHERE type IN (\"table\",\"view\");\n",
    "    '''\n",
    "    return run_query(q)\n"
   ]
  },
  {
   "cell_type": "code",
   "execution_count": 32,
   "metadata": {
    "collapsed": false
   },
   "outputs": [
    {
     "data": {
      "text/html": [
       "<div>\n",
       "<style scoped>\n",
       "    .dataframe tbody tr th:only-of-type {\n",
       "        vertical-align: middle;\n",
       "    }\n",
       "\n",
       "    .dataframe tbody tr th {\n",
       "        vertical-align: top;\n",
       "    }\n",
       "\n",
       "    .dataframe thead th {\n",
       "        text-align: right;\n",
       "    }\n",
       "</style>\n",
       "<table border=\"1\" class=\"dataframe\">\n",
       "  <thead>\n",
       "    <tr style=\"text-align: right;\">\n",
       "      <th></th>\n",
       "      <th>name</th>\n",
       "      <th>type</th>\n",
       "    </tr>\n",
       "  </thead>\n",
       "  <tbody>\n",
       "    <tr>\n",
       "      <th>0</th>\n",
       "      <td>album</td>\n",
       "      <td>table</td>\n",
       "    </tr>\n",
       "    <tr>\n",
       "      <th>1</th>\n",
       "      <td>artist</td>\n",
       "      <td>table</td>\n",
       "    </tr>\n",
       "    <tr>\n",
       "      <th>2</th>\n",
       "      <td>customer</td>\n",
       "      <td>table</td>\n",
       "    </tr>\n",
       "    <tr>\n",
       "      <th>3</th>\n",
       "      <td>employee</td>\n",
       "      <td>table</td>\n",
       "    </tr>\n",
       "    <tr>\n",
       "      <th>4</th>\n",
       "      <td>genre</td>\n",
       "      <td>table</td>\n",
       "    </tr>\n",
       "    <tr>\n",
       "      <th>5</th>\n",
       "      <td>invoice</td>\n",
       "      <td>table</td>\n",
       "    </tr>\n",
       "    <tr>\n",
       "      <th>6</th>\n",
       "      <td>invoice_line</td>\n",
       "      <td>table</td>\n",
       "    </tr>\n",
       "    <tr>\n",
       "      <th>7</th>\n",
       "      <td>media_type</td>\n",
       "      <td>table</td>\n",
       "    </tr>\n",
       "    <tr>\n",
       "      <th>8</th>\n",
       "      <td>playlist</td>\n",
       "      <td>table</td>\n",
       "    </tr>\n",
       "    <tr>\n",
       "      <th>9</th>\n",
       "      <td>playlist_track</td>\n",
       "      <td>table</td>\n",
       "    </tr>\n",
       "    <tr>\n",
       "      <th>10</th>\n",
       "      <td>track</td>\n",
       "      <td>table</td>\n",
       "    </tr>\n",
       "  </tbody>\n",
       "</table>\n",
       "</div>"
      ],
      "text/plain": [
       "              name   type\n",
       "0            album  table\n",
       "1           artist  table\n",
       "2         customer  table\n",
       "3         employee  table\n",
       "4            genre  table\n",
       "5          invoice  table\n",
       "6     invoice_line  table\n",
       "7       media_type  table\n",
       "8         playlist  table\n",
       "9   playlist_track  table\n",
       "10           track  table"
      ]
     },
     "execution_count": 32,
     "metadata": {},
     "output_type": "execute_result"
    }
   ],
   "source": [
    "# Show the tables\n",
    "show_tables()"
   ]
  },
  {
   "cell_type": "markdown",
   "metadata": {},
   "source": [
    "### Finding Top 3 Music Genres in the USA"
   ]
  },
  {
   "cell_type": "markdown",
   "metadata": {},
   "source": [
    "The first question we want to answer with the data is to find the top 3 selling music genres in the USA."
   ]
  },
  {
   "cell_type": "markdown",
   "metadata": {},
   "source": [
    "Write a query that returns each genre, with the number of tracks sold in the USA:\n",
    "1. in absolute numbers\n",
    "2. in percentages."
   ]
  },
  {
   "cell_type": "code",
   "execution_count": 33,
   "metadata": {
    "collapsed": false
   },
   "outputs": [
    {
     "data": {
      "text/html": [
       "<div>\n",
       "<style scoped>\n",
       "    .dataframe tbody tr th:only-of-type {\n",
       "        vertical-align: middle;\n",
       "    }\n",
       "\n",
       "    .dataframe tbody tr th {\n",
       "        vertical-align: top;\n",
       "    }\n",
       "\n",
       "    .dataframe thead th {\n",
       "        text-align: right;\n",
       "    }\n",
       "</style>\n",
       "<table border=\"1\" class=\"dataframe\">\n",
       "  <thead>\n",
       "    <tr style=\"text-align: right;\">\n",
       "      <th></th>\n",
       "      <th>genre</th>\n",
       "      <th>tracks_sold</th>\n",
       "      <th>percentage_sold</th>\n",
       "    </tr>\n",
       "  </thead>\n",
       "  <tbody>\n",
       "    <tr>\n",
       "      <th>0</th>\n",
       "      <td>Rock</td>\n",
       "      <td>561</td>\n",
       "      <td>0.533777</td>\n",
       "    </tr>\n",
       "    <tr>\n",
       "      <th>1</th>\n",
       "      <td>Alternative &amp; Punk</td>\n",
       "      <td>130</td>\n",
       "      <td>0.123692</td>\n",
       "    </tr>\n",
       "    <tr>\n",
       "      <th>2</th>\n",
       "      <td>Metal</td>\n",
       "      <td>124</td>\n",
       "      <td>0.117983</td>\n",
       "    </tr>\n",
       "  </tbody>\n",
       "</table>\n",
       "</div>"
      ],
      "text/plain": [
       "                genre  tracks_sold  percentage_sold\n",
       "0                Rock          561         0.533777\n",
       "1  Alternative & Punk          130         0.123692\n",
       "2               Metal          124         0.117983"
      ]
     },
     "execution_count": 33,
     "metadata": {},
     "output_type": "execute_result"
    }
   ],
   "source": [
    "top3 = '''\n",
    "    WITH usa_tracks_sold AS\n",
    "       (\n",
    "        SELECT il.* FROM invoice_line il\n",
    "        INNER JOIN invoice i on il.invoice_id = i.invoice_id\n",
    "        INNER JOIN customer c on i.customer_id = c.customer_id\n",
    "        WHERE c.country = \"USA\"\n",
    "       )\n",
    "\n",
    "    SELECT\n",
    "        g.name genre,\n",
    "        count(uts.invoice_line_id) tracks_sold,\n",
    "        cast(count(uts.invoice_line_id) AS FLOAT) / (\n",
    "            SELECT COUNT(*) from usa_tracks_sold\n",
    "        ) percentage_sold\n",
    "    FROM usa_tracks_sold uts\n",
    "    INNER JOIN track t on t.track_id = uts.track_id\n",
    "    INNER JOIN genre g on g.genre_id = t.genre_id\n",
    "    GROUP BY 1\n",
    "    ORDER BY 2 DESC\n",
    "    LIMIT 3;\n",
    "        '''\n",
    "run_query(top3)"
   ]
  },
  {
   "cell_type": "markdown",
   "metadata": {},
   "source": [
    "Therefore, the top three genres in the US are Rock, Alterinative & Punk and Metal. These genres should be the most stocked in the store."
   ]
  },
  {
   "cell_type": "markdown",
   "metadata": {},
   "source": [
    "### Top Sales by Employee"
   ]
  },
  {
   "cell_type": "markdown",
   "metadata": {},
   "source": [
    "Next we want to figure out who the top sales people are."
   ]
  },
  {
   "cell_type": "markdown",
   "metadata": {},
   "source": [
    "Write a query that finds the total dollar amount of sales assigned to each sales support agent within the company."
   ]
  },
  {
   "cell_type": "code",
   "execution_count": 41,
   "metadata": {
    "collapsed": false
   },
   "outputs": [
    {
     "data": {
      "text/html": [
       "<div>\n",
       "<style scoped>\n",
       "    .dataframe tbody tr th:only-of-type {\n",
       "        vertical-align: middle;\n",
       "    }\n",
       "\n",
       "    .dataframe tbody tr th {\n",
       "        vertical-align: top;\n",
       "    }\n",
       "\n",
       "    .dataframe thead th {\n",
       "        text-align: right;\n",
       "    }\n",
       "</style>\n",
       "<table border=\"1\" class=\"dataframe\">\n",
       "  <thead>\n",
       "    <tr style=\"text-align: right;\">\n",
       "      <th></th>\n",
       "      <th>employee</th>\n",
       "      <th>title</th>\n",
       "      <th>hire_date</th>\n",
       "      <th>city</th>\n",
       "      <th>country</th>\n",
       "      <th>total_sales</th>\n",
       "    </tr>\n",
       "  </thead>\n",
       "  <tbody>\n",
       "    <tr>\n",
       "      <th>0</th>\n",
       "      <td>Jane Peacock</td>\n",
       "      <td>Sales Support Agent</td>\n",
       "      <td>2017-04-01 00:00:00</td>\n",
       "      <td>Calgary</td>\n",
       "      <td>Canada</td>\n",
       "      <td>1731.51</td>\n",
       "    </tr>\n",
       "    <tr>\n",
       "      <th>1</th>\n",
       "      <td>Margaret Park</td>\n",
       "      <td>Sales Support Agent</td>\n",
       "      <td>2017-05-03 00:00:00</td>\n",
       "      <td>Calgary</td>\n",
       "      <td>Canada</td>\n",
       "      <td>1584.00</td>\n",
       "    </tr>\n",
       "    <tr>\n",
       "      <th>2</th>\n",
       "      <td>Steve Johnson</td>\n",
       "      <td>Sales Support Agent</td>\n",
       "      <td>2017-10-17 00:00:00</td>\n",
       "      <td>Calgary</td>\n",
       "      <td>Canada</td>\n",
       "      <td>1393.92</td>\n",
       "    </tr>\n",
       "  </tbody>\n",
       "</table>\n",
       "</div>"
      ],
      "text/plain": [
       "        employee                title            hire_date     city country  \\\n",
       "0   Jane Peacock  Sales Support Agent  2017-04-01 00:00:00  Calgary  Canada   \n",
       "1  Margaret Park  Sales Support Agent  2017-05-03 00:00:00  Calgary  Canada   \n",
       "2  Steve Johnson  Sales Support Agent  2017-10-17 00:00:00  Calgary  Canada   \n",
       "\n",
       "   total_sales  \n",
       "0      1731.51  \n",
       "1      1584.00  \n",
       "2      1393.92  "
      ]
     },
     "execution_count": 41,
     "metadata": {},
     "output_type": "execute_result"
    }
   ],
   "source": [
    "sales_query = '''\n",
    "            SELECT \n",
    "                e.first_name || ' ' || e.last_name employee,\n",
    "                e.title,\n",
    "                e.hire_date,\n",
    "                e.city,\n",
    "                e.country,\n",
    "                sum(i.total) total_sales\n",
    "            FROM employee e\n",
    "            INNER JOIN customer c ON e.employee_id = c.support_rep_id\n",
    "            INNER JOIN invoice i ON c.customer_id = i.customer_id\n",
    "            GROUP BY employee_id\n",
    "            ORDER BY total_sales DESC\n",
    "            '''\n",
    "run_query(sales_query)"
   ]
  },
  {
   "cell_type": "markdown",
   "metadata": {},
   "source": [
    "The top three sales people are all relatively similar. The person with the least sales is also the newest employee. Sales increase the longer the employee has been employeed by the company."
   ]
  },
  {
   "cell_type": "markdown",
   "metadata": {},
   "source": [
    "### Sales Data by Customer and Country"
   ]
  },
  {
   "cell_type": "markdown",
   "metadata": {},
   "source": [
    "Next task is to analyze the purchases by customer and country. For each country, include:\n",
    "\n",
    "1. total number of customers\n",
    "2. total value of sales\n",
    "3. average value of sales per customer\n",
    "4. average order value\n"
   ]
  },
  {
   "cell_type": "code",
   "execution_count": 42,
   "metadata": {
    "collapsed": false
   },
   "outputs": [
    {
     "data": {
      "text/html": [
       "<div>\n",
       "<style scoped>\n",
       "    .dataframe tbody tr th:only-of-type {\n",
       "        vertical-align: middle;\n",
       "    }\n",
       "\n",
       "    .dataframe tbody tr th {\n",
       "        vertical-align: top;\n",
       "    }\n",
       "\n",
       "    .dataframe thead th {\n",
       "        text-align: right;\n",
       "    }\n",
       "</style>\n",
       "<table border=\"1\" class=\"dataframe\">\n",
       "  <thead>\n",
       "    <tr style=\"text-align: right;\">\n",
       "      <th></th>\n",
       "      <th>country</th>\n",
       "      <th>customers</th>\n",
       "      <th>total_sales</th>\n",
       "      <th>average_order</th>\n",
       "      <th>customer_lifetime_value</th>\n",
       "    </tr>\n",
       "  </thead>\n",
       "  <tbody>\n",
       "    <tr>\n",
       "      <th>0</th>\n",
       "      <td>USA</td>\n",
       "      <td>13</td>\n",
       "      <td>1040.49</td>\n",
       "      <td>7.942672</td>\n",
       "      <td>80.037692</td>\n",
       "    </tr>\n",
       "    <tr>\n",
       "      <th>1</th>\n",
       "      <td>Canada</td>\n",
       "      <td>8</td>\n",
       "      <td>535.59</td>\n",
       "      <td>7.047237</td>\n",
       "      <td>66.948750</td>\n",
       "    </tr>\n",
       "    <tr>\n",
       "      <th>2</th>\n",
       "      <td>Brazil</td>\n",
       "      <td>5</td>\n",
       "      <td>427.68</td>\n",
       "      <td>7.011148</td>\n",
       "      <td>85.536000</td>\n",
       "    </tr>\n",
       "    <tr>\n",
       "      <th>3</th>\n",
       "      <td>France</td>\n",
       "      <td>5</td>\n",
       "      <td>389.07</td>\n",
       "      <td>7.781400</td>\n",
       "      <td>77.814000</td>\n",
       "    </tr>\n",
       "    <tr>\n",
       "      <th>4</th>\n",
       "      <td>Germany</td>\n",
       "      <td>4</td>\n",
       "      <td>334.62</td>\n",
       "      <td>8.161463</td>\n",
       "      <td>83.655000</td>\n",
       "    </tr>\n",
       "    <tr>\n",
       "      <th>5</th>\n",
       "      <td>Czech Republic</td>\n",
       "      <td>2</td>\n",
       "      <td>273.24</td>\n",
       "      <td>9.108000</td>\n",
       "      <td>136.620000</td>\n",
       "    </tr>\n",
       "    <tr>\n",
       "      <th>6</th>\n",
       "      <td>United Kingdom</td>\n",
       "      <td>3</td>\n",
       "      <td>245.52</td>\n",
       "      <td>8.768571</td>\n",
       "      <td>81.840000</td>\n",
       "    </tr>\n",
       "    <tr>\n",
       "      <th>7</th>\n",
       "      <td>Portugal</td>\n",
       "      <td>2</td>\n",
       "      <td>185.13</td>\n",
       "      <td>6.383793</td>\n",
       "      <td>92.565000</td>\n",
       "    </tr>\n",
       "    <tr>\n",
       "      <th>8</th>\n",
       "      <td>India</td>\n",
       "      <td>2</td>\n",
       "      <td>183.15</td>\n",
       "      <td>8.721429</td>\n",
       "      <td>91.575000</td>\n",
       "    </tr>\n",
       "    <tr>\n",
       "      <th>9</th>\n",
       "      <td>Other</td>\n",
       "      <td>15</td>\n",
       "      <td>1094.94</td>\n",
       "      <td>7.448571</td>\n",
       "      <td>72.996000</td>\n",
       "    </tr>\n",
       "  </tbody>\n",
       "</table>\n",
       "</div>"
      ],
      "text/plain": [
       "          country  customers  total_sales  average_order  \\\n",
       "0             USA         13      1040.49       7.942672   \n",
       "1          Canada          8       535.59       7.047237   \n",
       "2          Brazil          5       427.68       7.011148   \n",
       "3          France          5       389.07       7.781400   \n",
       "4         Germany          4       334.62       8.161463   \n",
       "5  Czech Republic          2       273.24       9.108000   \n",
       "6  United Kingdom          3       245.52       8.768571   \n",
       "7        Portugal          2       185.13       6.383793   \n",
       "8           India          2       183.15       8.721429   \n",
       "9           Other         15      1094.94       7.448571   \n",
       "\n",
       "   customer_lifetime_value  \n",
       "0                80.037692  \n",
       "1                66.948750  \n",
       "2                85.536000  \n",
       "3                77.814000  \n",
       "4                83.655000  \n",
       "5               136.620000  \n",
       "6                81.840000  \n",
       "7                92.565000  \n",
       "8                91.575000  \n",
       "9                72.996000  "
      ]
     },
     "execution_count": 42,
     "metadata": {},
     "output_type": "execute_result"
    }
   ],
   "source": [
    "\n",
    "sales_by_country = '''\n",
    "WITH country_or_other AS\n",
    "    (\n",
    "     SELECT\n",
    "       CASE\n",
    "           WHEN (\n",
    "                 SELECT count(*)\n",
    "                 FROM customer\n",
    "                 where country = c.country\n",
    "                ) = 1 THEN \"Other\"\n",
    "           ELSE c.country\n",
    "       END AS country,\n",
    "       c.customer_id,\n",
    "       il.*\n",
    "     FROM invoice_line il\n",
    "     INNER JOIN invoice i ON i.invoice_id = il.invoice_id\n",
    "     INNER JOIN customer c ON c.customer_id = i.customer_id\n",
    "    )\n",
    "\n",
    "SELECT\n",
    "    country,\n",
    "    customers,\n",
    "    total_sales,\n",
    "    average_order,\n",
    "    customer_lifetime_value\n",
    "FROM\n",
    "    (\n",
    "    SELECT\n",
    "        country,\n",
    "        count(distinct customer_id) customers,\n",
    "        SUM(unit_price) total_sales,\n",
    "        SUM(unit_price) / count(distinct customer_id) customer_lifetime_value,\n",
    "        SUM(unit_price) / count(distinct invoice_id) average_order,\n",
    "        CASE\n",
    "            WHEN country = \"Other\" THEN 1\n",
    "            ELSE 0\n",
    "        END AS sort\n",
    "    FROM country_or_other\n",
    "    GROUP BY country\n",
    "    ORDER BY sort ASC, total_sales DESC\n",
    "    );\n",
    "'''\n",
    "\n",
    "run_query(sales_by_country)"
   ]
  },
  {
   "cell_type": "markdown",
   "metadata": {},
   "source": [
    "The USA is the top selling country and has the most customers. I find that Canada's second place result is interesting. Canada has 1/10th the population of the USA, but it's sales are a little bit more than half of the USA's. It would be worthwile to study why Canada performs proportionalty better than the USA and then apply the strategy to the USA because both countries are pretty similar."
   ]
  },
  {
   "cell_type": "markdown",
   "metadata": {},
   "source": [
    "### Analyzing Full Album Sales"
   ]
  },
  {
   "cell_type": "markdown",
   "metadata": {},
   "source": [
    "Finally, we want to compare if customers are buying full albums or just a few songs from each album (i.e. just the popular songs)."
   ]
  },
  {
   "cell_type": "code",
   "execution_count": 43,
   "metadata": {
    "collapsed": false
   },
   "outputs": [
    {
     "data": {
      "text/html": [
       "<div>\n",
       "<style scoped>\n",
       "    .dataframe tbody tr th:only-of-type {\n",
       "        vertical-align: middle;\n",
       "    }\n",
       "\n",
       "    .dataframe tbody tr th {\n",
       "        vertical-align: top;\n",
       "    }\n",
       "\n",
       "    .dataframe thead th {\n",
       "        text-align: right;\n",
       "    }\n",
       "</style>\n",
       "<table border=\"1\" class=\"dataframe\">\n",
       "  <thead>\n",
       "    <tr style=\"text-align: right;\">\n",
       "      <th></th>\n",
       "      <th>album_purchase</th>\n",
       "      <th>number_of_invoices</th>\n",
       "      <th>percent</th>\n",
       "    </tr>\n",
       "  </thead>\n",
       "  <tbody>\n",
       "    <tr>\n",
       "      <th>0</th>\n",
       "      <td>no</td>\n",
       "      <td>500</td>\n",
       "      <td>0.814332</td>\n",
       "    </tr>\n",
       "    <tr>\n",
       "      <th>1</th>\n",
       "      <td>yes</td>\n",
       "      <td>114</td>\n",
       "      <td>0.185668</td>\n",
       "    </tr>\n",
       "  </tbody>\n",
       "</table>\n",
       "</div>"
      ],
      "text/plain": [
       "  album_purchase  number_of_invoices   percent\n",
       "0             no                 500  0.814332\n",
       "1            yes                 114  0.185668"
      ]
     },
     "execution_count": 43,
     "metadata": {},
     "output_type": "execute_result"
    }
   ],
   "source": [
    "albums_vs_tracks = '''\n",
    "WITH invoice_first_track AS\n",
    "    (\n",
    "     SELECT\n",
    "         il.invoice_id invoice_id,\n",
    "         MIN(il.track_id) first_track_id\n",
    "     FROM invoice_line il\n",
    "     GROUP BY 1\n",
    "    )\n",
    "\n",
    "SELECT\n",
    "    album_purchase,\n",
    "    COUNT(invoice_id) number_of_invoices,\n",
    "    CAST(count(invoice_id) AS FLOAT) / (\n",
    "                                         SELECT COUNT(*) FROM invoice\n",
    "                                      ) percent\n",
    "FROM\n",
    "    (\n",
    "    SELECT\n",
    "        ifs.*,\n",
    "        CASE\n",
    "            WHEN\n",
    "                 (\n",
    "                  SELECT t.track_id FROM track t\n",
    "                  WHERE t.album_id = (\n",
    "                                      SELECT t2.album_id FROM track t2\n",
    "                                      WHERE t2.track_id = ifs.first_track_id\n",
    "                                     ) \n",
    "\n",
    "                  EXCEPT \n",
    "\n",
    "                  SELECT il2.track_id FROM invoice_line il2\n",
    "                  WHERE il2.invoice_id = ifs.invoice_id\n",
    "                 ) IS NULL\n",
    "             AND\n",
    "                 (\n",
    "                  SELECT il2.track_id FROM invoice_line il2\n",
    "                  WHERE il2.invoice_id = ifs.invoice_id\n",
    "\n",
    "                  EXCEPT \n",
    "\n",
    "                  SELECT t.track_id FROM track t\n",
    "                  WHERE t.album_id = (\n",
    "                                      SELECT t2.album_id FROM track t2\n",
    "                                      WHERE t2.track_id = ifs.first_track_id\n",
    "                                     ) \n",
    "                 ) IS NULL\n",
    "             THEN \"yes\"\n",
    "             ELSE \"no\"\n",
    "         END AS \"album_purchase\"\n",
    "     FROM invoice_first_track ifs\n",
    "    )\n",
    "GROUP BY album_purchase;\n",
    "'''\n",
    "\n",
    "run_query(albums_vs_tracks)"
   ]
  },
  {
   "cell_type": "markdown",
   "metadata": {},
   "source": [
    "It looks like the most customers prefer to buy individual tracks from albums instead of the full album! We may be able to optimize costs by just purchasing the popular songs instead of full albums."
   ]
  }
 ],
 "metadata": {
  "kernelspec": {
   "display_name": "Python 3",
   "language": "python",
   "name": "python3"
  },
  "language_info": {
   "codemirror_mode": {
    "name": "ipython",
    "version": 3
   },
   "file_extension": ".py",
   "mimetype": "text/x-python",
   "name": "python",
   "nbconvert_exporter": "python",
   "pygments_lexer": "ipython3",
   "version": "3.4.3"
  }
 },
 "nbformat": 4,
 "nbformat_minor": 2
}
