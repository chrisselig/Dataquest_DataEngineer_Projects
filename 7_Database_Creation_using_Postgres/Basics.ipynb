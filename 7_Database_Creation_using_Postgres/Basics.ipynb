{
 "cells": [
  {
   "cell_type": "markdown",
   "metadata": {
    "collapsed": true
   },
   "source": [
    "# Boston Crime Database Creation"
   ]
  },
  {
   "cell_type": "markdown",
   "metadata": {},
   "source": [
    "# Goal \n",
    "\n",
    "Goal of this project is to build a postgres database, with a schema, table user groups and users. Two groups will be created, one for data analysts, with read only capability and another for data scientists with readwrite capability. This project is part of the Dataquest Data Engineering with Python course track.\n"
   ]
  },
  {
   "cell_type": "markdown",
   "metadata": {},
   "source": [
    "Import modules"
   ]
  },
  {
   "cell_type": "code",
   "execution_count": 1,
   "metadata": {
    "collapsed": true
   },
   "outputs": [],
   "source": [
    "import psycopg2\n",
    "import csv\n",
    "import os"
   ]
  },
  {
   "cell_type": "markdown",
   "metadata": {},
   "source": [
    "### Step 1: Create a Database and Schema\n",
    "\n",
    "A database named crimes_db will be created with a schema called crimes."
   ]
  },
  {
   "cell_type": "code",
   "execution_count": 2,
   "metadata": {
    "collapsed": true
   },
   "outputs": [],
   "source": [
    "conn = psycopg2.connect(dbname = \"dq\",user = \"dq\")\n",
    "cur = conn.cursor()\n",
    "\n",
    "# Turn autocommit on to create the database\n",
    "conn.autocommit = True"
   ]
  },
  {
   "cell_type": "code",
   "execution_count": 3,
   "metadata": {
    "collapsed": false,
    "scrolled": true
   },
   "outputs": [],
   "source": [
    "# Delete database in case I want to rerun all code\n",
    "cur.execute(\"DROP DATABASE crimes_db\")\n",
    "\n",
    "# Create database\n",
    "cur.execute(\"CREATE DATABASE crimes_db\")"
   ]
  },
  {
   "cell_type": "code",
   "execution_count": 4,
   "metadata": {
    "collapsed": false
   },
   "outputs": [],
   "source": [
    "# Delete schema crimes in case I want to re-run all code\n",
    "cur.execute(\"DROP SCHEMA crimes CASCADE\")\n",
    "\n",
    "# Create the Schema, crimes\n",
    "cur.execute(\"CREATE SCHEMA crimes\")\n",
    "\n",
    "# Turn off autocommit\n",
    "conn.autocommit = False"
   ]
  },
  {
   "cell_type": "markdown",
   "metadata": {},
   "source": [
    "# Step 2: Create Tables\n",
    "\n",
    "First, I will read in the crimes.csv file so I can a look at the headers and data. This information will be used to create the correct datatypes for the table."
   ]
  },
  {
   "cell_type": "code",
   "execution_count": 5,
   "metadata": {
    "collapsed": false
   },
   "outputs": [
    {
     "name": "stdout",
     "output_type": "stream",
     "text": [
      "['incident_number', 'offense_code', 'description', 'date', 'day_of_the_week', 'lat', 'long'] \n",
      " ['1', '619', 'LARCENY ALL OTHERS', '2018-09-02', 'Sunday', '42.35779134', '-71.13937053']\n"
     ]
    }
   ],
   "source": [
    "with open(\"boston.csv\") as file:\n",
    "    reader = list(csv.reader(file))\n",
    "\n",
    "# Save headers to its own variable\n",
    "col_headers = reader[0]\n",
    "\n",
    "# Assign first row of data to its own variable\n",
    "first_row = reader[1]\n",
    "\n",
    "print(col_headers,\"\\n\",first_row)"
   ]
  },
  {
   "cell_type": "markdown",
   "metadata": {},
   "source": [
    "Now, to look at the datatypes for each column. To do this, I will create a function (get_col_value_set) that given a csv and column, will print the unique values in that column.\n",
    "\n",
    "This function will be useful for two reasons:\n",
    "\n",
    "1. Checking whether an enumerated datatype might be a good choice for representing a column.\n",
    "2. Computing the maximum length of any text-like column to select appropriate sizes for VARCHAR columns."
   ]
  },
  {
   "cell_type": "code",
   "execution_count": 6,
   "metadata": {
    "collapsed": true
   },
   "outputs": [],
   "source": [
    "def get_col_value_set(csv_filename, col_index):\n",
    "    # Create an empty set\n",
    "    unique_values = set()\n",
    "    \n",
    "    with open(csv_filename,'r') as f:\n",
    "        next(f)\n",
    "        reader = csv.reader(f)\n",
    "\n",
    "        for row in reader:\n",
    "            unique_values.add(row[col_index])\n",
    "    return unique_values"
   ]
  },
  {
   "cell_type": "code",
   "execution_count": 7,
   "metadata": {
    "collapsed": false
   },
   "outputs": [
    {
     "data": {
      "text/plain": [
       "{'A&B HANDS, FEET, ETC.  - MED. ATTENTION REQ.',\n",
       " 'A&B ON POLICE OFFICER',\n",
       " 'ABDUCTION - INTICING',\n",
       " 'AFFRAY',\n",
       " 'AIRCRAFT INCIDENTS',\n",
       " 'ANIMAL ABUSE',\n",
       " 'ANIMAL CONTROL - DOG BITES - ETC.',\n",
       " 'ANIMAL INCIDENTS',\n",
       " 'ANNOYING AND ACCOSTIN',\n",
       " 'ANNOYING AND ACCOSTING',\n",
       " 'ARSON',\n",
       " 'ASSAULT & BATTERY',\n",
       " 'ASSAULT & BATTERY D/W - KNIFE',\n",
       " 'ASSAULT & BATTERY D/W - OTHER',\n",
       " 'ASSAULT & BATTERY D/W - OTHER ON POLICE OFFICER',\n",
       " 'ASSAULT - AGGRAVATED',\n",
       " 'ASSAULT - AGGRAVATED - BATTERY',\n",
       " 'ASSAULT - SIMPLE',\n",
       " 'ASSAULT D/W - KNIFE ON POLICE OFFICER',\n",
       " 'ASSAULT D/W - OTHER',\n",
       " 'ASSAULT SIMPLE - BATTERY',\n",
       " 'AUTO THEFT',\n",
       " 'AUTO THEFT - LEASED/RENTED VEHICLE',\n",
       " 'AUTO THEFT - MOTORCYCLE / SCOOTER',\n",
       " 'AUTO THEFT - OUTSIDE - RECOVERED IN BOSTON',\n",
       " 'AUTO THEFT - RECOVERED IN BY POLICE',\n",
       " 'AUTO THEFT LEASE/RENT VEHICLE',\n",
       " 'AUTO THEFT OTHER',\n",
       " 'B&E NON-RESIDENCE DAY - FORCIBLE',\n",
       " 'B&E NON-RESIDENCE DAY - NO FORCE',\n",
       " 'B&E NON-RESIDENCE DAY - NO PROP TAKEN',\n",
       " 'B&E NON-RESIDENCE NIGHT - FORCE',\n",
       " 'B&E RESIDENCE DAY - NO FORCE',\n",
       " 'B&E RESIDENCE DAY - NO PROP TAKEN',\n",
       " 'B&E RESIDENCE NIGHT - ATTEMPT FORCE',\n",
       " 'BALLISTICS EVIDENCE/FOUND',\n",
       " 'BIOLOGICAL THREATS',\n",
       " 'BOMB THREAT',\n",
       " 'BURGLARY - COMMERICAL - ATTEMPT',\n",
       " 'BURGLARY - COMMERICAL - FORCE',\n",
       " 'BURGLARY - COMMERICAL - NO FORCE',\n",
       " 'BURGLARY - OTHER - ATTEMPT',\n",
       " 'BURGLARY - OTHER - FORCE',\n",
       " 'BURGLARY - OTHER - NO FORCE',\n",
       " 'BURGLARY - RESIDENTIAL - ATTEMPT',\n",
       " 'BURGLARY - RESIDENTIAL - FORCE',\n",
       " 'BURGLARY - RESIDENTIAL - NO FORCE',\n",
       " 'CHILD ABANDONMENT (NO ASSAULT)',\n",
       " 'CHILD ABUSE',\n",
       " 'CHILD ENDANGERMENT',\n",
       " 'CHILD ENDANGERMENT (NO ASSAULT)',\n",
       " 'CHINS',\n",
       " 'CONSPIRACY EXCEPT DRUG LAW',\n",
       " 'CONTRIBUTING TO DELINQUENCY OF MINOR',\n",
       " 'CRIMINAL HARASSMENT',\n",
       " 'CUSTODIAL KIDNAPPING',\n",
       " 'DANGEROUS OR HAZARDOUS CONDITION',\n",
       " 'DEATH INVESTIGATION',\n",
       " 'DEMONSTRATIONS/RIOT',\n",
       " 'DISORDERLY CONDUCT',\n",
       " 'DISORDERLY PERSON',\n",
       " 'DISTURBING THE PEACE',\n",
       " 'DRUGS - CLASS A TRAFFICKING OVER 18 GRAMS',\n",
       " 'DRUGS - CLASS B TRAFFICKING OVER 18 GRAMS',\n",
       " 'DRUGS - CLASS D TRAFFICKING OVER 50 GRAMS',\n",
       " 'DRUGS - CONSP TO VIOL CONTROLLED SUBSTANCE',\n",
       " 'DRUGS - GLUE INHALATION',\n",
       " 'DRUGS - OTHER',\n",
       " 'DRUGS - POSS CLASS A - HEROIN, ETC.',\n",
       " 'DRUGS - POSS CLASS A - HEROIN, ETC. ',\n",
       " 'DRUGS - POSS CLASS A - INTENT TO MFR DIST DISP',\n",
       " 'DRUGS - POSS CLASS B - COCAINE, ETC.',\n",
       " 'DRUGS - POSS CLASS B - INTENT TO MFR DIST DISP',\n",
       " 'DRUGS - POSS CLASS C',\n",
       " 'DRUGS - POSS CLASS C - INTENT TO MFR DIST DISP',\n",
       " 'DRUGS - POSS CLASS D',\n",
       " 'DRUGS - POSS CLASS D - INTENT MFR DIST DISP',\n",
       " 'DRUGS - POSS CLASS D - INTENT TO MFR DIST DISP',\n",
       " 'DRUGS - POSS CLASS D - MARIJUANA, ETC.',\n",
       " 'DRUGS - POSS CLASS E',\n",
       " 'DRUGS - POSS CLASS E - INTENT TO MFR DIST DISP',\n",
       " 'DRUGS - POSS CLASS E INTENT TO MF DIST DISP',\n",
       " 'DRUGS - POSSESSION',\n",
       " 'DRUGS - POSSESSION OF DRUG PARAPHANALIA',\n",
       " 'DRUGS - SALE / MANUFACTURING',\n",
       " 'DRUGS - SICK ASSIST - HEROIN',\n",
       " 'DRUGS - SICK ASSIST - OTHER HARMFUL DRUG',\n",
       " 'DRUGS - SICK ASSIST - OTHER NARCOTIC',\n",
       " 'EMBEZZLEMENT',\n",
       " 'EVADING FARE',\n",
       " 'EXPLOSIVES - POSSESSION OR USE',\n",
       " 'EXPLOSIVES - TURNED IN OR FOUND',\n",
       " 'EXTORTION OR BLACKMAIL',\n",
       " 'FIRE REPORT - CAR, BRUSH, ETC.',\n",
       " 'FIRE REPORT - HOUSE, BUILDING, ETC.',\n",
       " 'FIRE REPORT/ALARM - FALSE',\n",
       " 'FIREARM/WEAPON - ACCIDENTAL INJURY / DEATH',\n",
       " 'FIREARM/WEAPON - CARRY - SELL - RENT',\n",
       " 'FIREARM/WEAPON - FOUND OR CONFISCATED',\n",
       " 'FIREARM/WEAPON - LOST',\n",
       " 'FIREARM/WEAPON - POSSESSION OF DANGEROUS',\n",
       " 'FORGERY / COUNTERFEITING',\n",
       " 'FORGERY OR UTTERING',\n",
       " 'FRAUD - CREDIT CARD / ATM FRAUD',\n",
       " 'FRAUD - FALSE PRETENSE',\n",
       " 'FRAUD - FALSE PRETENSE / SCHEME',\n",
       " 'FRAUD - IMPERSONATION',\n",
       " 'FRAUD - WELFARE',\n",
       " 'FRAUD - WIRE',\n",
       " 'FRAUDS - ALL OTHER',\n",
       " 'FUGITIVE FROM JUSTICE',\n",
       " 'GAMBLING - BETTING / WAGERING',\n",
       " 'GATHERING CAUSING ANNOYANCE',\n",
       " 'GRAFFITI',\n",
       " 'HARASSMENT',\n",
       " 'HARBOR INCIDENT / VIOLATION',\n",
       " 'HOME INVASION',\n",
       " 'HUMAN TRAFFICKING - COMMERCIAL SEX ACTS',\n",
       " 'HUMAN TRAFFICKING - INVOLUNTARY SERVITUDE',\n",
       " 'INJURY BICYCLE NO M/V INVOLVED',\n",
       " 'INTIMIDATING WITNESS',\n",
       " 'INVESTIGATE PERSON',\n",
       " 'INVESTIGATE PROPERTY',\n",
       " 'INVESTIGATION FOR ANOTHER AGENCY',\n",
       " 'KIDNAPPING - ENTICING OR ATTEMPTED',\n",
       " 'KIDNAPPING/CUSTODIAL KIDNAPPING',\n",
       " 'KILLING OF FELON BY POLICE',\n",
       " 'LANDLORD - TENANT SERVICE',\n",
       " 'LARCENY ALL OTHERS',\n",
       " 'LARCENY BICYCLE $200 & OVER',\n",
       " 'LARCENY IN A BUILDING $200 & OVER',\n",
       " 'LARCENY IN A BUILDING $50 TO $199',\n",
       " 'LARCENY IN A BUILDING UNDER $50',\n",
       " 'LARCENY NON-ACCESSORY FROM VEH. $50 TO $199',\n",
       " 'LARCENY OTHER $200 & OVER',\n",
       " 'LARCENY OTHER $50 TO $199',\n",
       " 'LARCENY OTHER UNDER $50',\n",
       " 'LARCENY PICK-POCKET',\n",
       " 'LARCENY PURSE SNATCH - NO FORCE ',\n",
       " 'LARCENY SHOPLIFTING',\n",
       " 'LARCENY SHOPLIFTING $200 & OVER',\n",
       " 'LARCENY SHOPLIFTING $50 TO $199',\n",
       " 'LARCENY SHOPLIFTING UNDER $50',\n",
       " 'LARCENY THEFT FROM BUILDING',\n",
       " 'LARCENY THEFT FROM COIN-OP MACHINE',\n",
       " 'LARCENY THEFT FROM MV - NON-ACCESSORY',\n",
       " 'LARCENY THEFT OF BICYCLE',\n",
       " 'LARCENY THEFT OF MV PARTS & ACCESSORIES',\n",
       " 'LICENSE PREMISE VIOLATION',\n",
       " 'LIQUOR - DRINKING IN PUBLIC',\n",
       " 'LIQUOR LAW VIOLATION',\n",
       " 'M/V - LEAVING SCENE - PERSONAL INJURY',\n",
       " 'M/V - LEAVING SCENE - PROPERTY DAMAGE',\n",
       " 'M/V ACCIDENT - INVOLVING BICYCLE - NO INJURY',\n",
       " 'M/V ACCIDENT - INVOLVING PEDESTRIAN - NO INJURY',\n",
       " 'M/V ACCIDENT - INVOLVING \\xa0BICYCLE - INJURY',\n",
       " 'M/V ACCIDENT - OTHER',\n",
       " 'M/V ACCIDENT - OTHER CITY VEHICLE',\n",
       " 'M/V ACCIDENT - PERSONAL INJURY',\n",
       " 'M/V ACCIDENT - POLICE VEHICLE',\n",
       " 'M/V ACCIDENT - PROPERTY \\xa0DAMAGE',\n",
       " 'M/V ACCIDENT INVOLVING PEDESTRIAN - INJURY',\n",
       " 'M/V PLATES - LOST',\n",
       " 'MANSLAUGHTER - NON-VEHICLE - NEGLIGENCE',\n",
       " 'MANSLAUGHTER - VEHICLE - NEGLIGENCE',\n",
       " 'MISSING PERSON',\n",
       " 'MISSING PERSON - LOCATED',\n",
       " 'MISSING PERSON - NOT REPORTED - LOCATED',\n",
       " 'MURDER, NON-NEGLIGIENT MANSLAUGHTER',\n",
       " 'NOISY PARTY/RADIO-ARREST',\n",
       " 'NOISY PARTY/RADIO-NO ARREST',\n",
       " 'OBSCENE MATERIALS - PORNOGRAPHY',\n",
       " 'OBSCENE PHONE CALLS',\n",
       " 'OPERATING UNDER THE INFLUENCE ALCOHOL',\n",
       " 'OPERATING UNDER THE INFLUENCE DRUGS',\n",
       " 'OTHER OFFENSE',\n",
       " 'POSSESSION OF BURGLARIOUS TOOLS',\n",
       " 'PRISONER - SUICIDE / SUICIDE ATTEMPT',\n",
       " 'PRISONER ATTEMPT TO RESCUE',\n",
       " 'PRISONER ESCAPE / ESCAPE & RECAPTURE',\n",
       " 'PROPERTY - ACCIDENTAL DAMAGE',\n",
       " 'PROPERTY - CONCEALING LEASED',\n",
       " 'PROPERTY - FOUND',\n",
       " 'PROPERTY - LOST',\n",
       " 'PROPERTY - LOST THEN LOCATED',\n",
       " 'PROPERTY - MISSING',\n",
       " 'PROPERTY - RECEIVING STOLEN',\n",
       " 'PROPERTY - STOLEN THEN RECOVERED',\n",
       " 'PROSTITUTE - COMMON NIGHTWALKER',\n",
       " 'PROSTITUTION',\n",
       " 'PROSTITUTION - ASSISTING OR PROMOTING',\n",
       " 'PROSTITUTION - COMMON NIGHTWALKER',\n",
       " 'PROSTITUTION - SOLICITING',\n",
       " 'PROTECTIVE CUSTODY / SAFEKEEPING',\n",
       " 'RECOVERED - MV RECOVERED IN BOSTON (STOLEN OUTSIDE BOSTON)',\n",
       " 'RECOVERED STOLEN PLATE',\n",
       " 'REPORT AFFECTING OTHER DEPTS.',\n",
       " 'ROBBERY - BANK',\n",
       " 'ROBBERY - CAR JACKING',\n",
       " 'ROBBERY - COMMERCIAL',\n",
       " 'ROBBERY - HOME INVASION',\n",
       " 'ROBBERY - KNIFE - STREET',\n",
       " 'ROBBERY - OTHER',\n",
       " 'ROBBERY - STREET',\n",
       " 'ROBBERY - UNARMED - CHAIN STORE',\n",
       " 'ROBBERY - UNARMED - STREET',\n",
       " 'ROBBERY ATTEMPT - KNIFE - BANK',\n",
       " 'SEARCH WARRANT',\n",
       " 'SERVICE TO OTHER PD INSIDE OF MA.',\n",
       " 'SERVICE TO OTHER PD OUTSIDE OF MA.',\n",
       " 'SICK/INJURED/MEDICAL - PERSON',\n",
       " 'SICK/INJURED/MEDICAL - POLICE',\n",
       " 'STALKING',\n",
       " 'STOLEN PROPERTY - BUYING / RECEIVING / POSSESSING',\n",
       " 'SUDDEN DEATH',\n",
       " 'SUICIDE / SUICIDE ATTEMPT',\n",
       " 'THREATS TO DO BODILY HARM',\n",
       " 'TOWED MOTOR VEHICLE',\n",
       " 'TRESPASSING',\n",
       " 'TRUANCY / RUNAWAY',\n",
       " 'VAL - OPERATING AFTER REV/SUSP.',\n",
       " 'VAL - OPERATING UNREG/UNINS \\xa0CAR',\n",
       " 'VAL - OPERATING W/O AUTHORIZATION LAWFUL',\n",
       " 'VAL - OPERATING WITHOUT LICENSE',\n",
       " 'VAL - VIOLATION OF AUTO LAW - OTHER',\n",
       " 'VANDALISM',\n",
       " 'VERBAL DISPUTE',\n",
       " 'VIOL. OF RESTRAINING ORDER W ARREST',\n",
       " 'VIOL. OF RESTRAINING ORDER W NO ARREST',\n",
       " 'VIOLATION - CITY ORDINANCE',\n",
       " 'VIOLATION - CITY ORDINANCE CONSTRUCTION PERMIT',\n",
       " 'VIOLATION - HAWKER AND PEDDLER',\n",
       " 'VIOLATION - RESTRAINING ORDER',\n",
       " 'WARRANT ARREST',\n",
       " 'WEAPON - FIREARM - CARRYING / POSSESSING, ETC',\n",
       " 'WEAPON - FIREARM - OTHER VIOLATION',\n",
       " 'WEAPON - FIREARM - SALE / TRAFFICKING',\n",
       " 'WEAPON - OTHER - CARRYING / POSSESSING, ETC',\n",
       " 'WEAPON - OTHER - OTHER VIOLATION'}"
      ]
     },
     "execution_count": 7,
     "metadata": {},
     "output_type": "execute_result"
    }
   ],
   "source": [
    "# Test the function\n",
    "get_col_value_set(\"boston.csv\",2)"
   ]
  },
  {
   "cell_type": "markdown",
   "metadata": {},
   "source": [
    "Print the number of values in each column"
   ]
  },
  {
   "cell_type": "code",
   "execution_count": 8,
   "metadata": {
    "collapsed": false
   },
   "outputs": [
    {
     "name": "stdout",
     "output_type": "stream",
     "text": [
      "incident_number\t298329\n",
      "offense_code\t219\n",
      "description\t239\n",
      "date\t1177\n",
      "day_of_the_week\t7\n",
      "lat\t18177\n",
      "long\t18177\n"
     ]
    }
   ],
   "source": [
    "for i in range(len(col_headers)):\n",
    "    values = get_col_value_set(\"boston.csv\",i)\n",
    "    print(col_headers[i], len(values), sep = '\\t')"
   ]
  },
  {
   "cell_type": "markdown",
   "metadata": {},
   "source": [
    "Generally, columns with low number of values are good candidates to be enumerated. Columns day_of_the_week only has 7 values, so that one is possible. \n",
    "\n",
    "Next, I will calculate the max length of each column. Knowing the length will help us save space in the database."
   ]
  },
  {
   "cell_type": "markdown",
   "metadata": {},
   "source": [
    "This is the maximum length for the description column:"
   ]
  },
  {
   "cell_type": "code",
   "execution_count": 9,
   "metadata": {
    "collapsed": false
   },
   "outputs": [
    {
     "name": "stdout",
     "output_type": "stream",
     "text": [
      "58\n"
     ]
    }
   ],
   "source": [
    "descriptions = get_col_value_set(\"boston.csv\", 2) \n",
    "max_len = 0\n",
    "for description in descriptions:\n",
    "    max_len = max(max_len, len(description))\n",
    "print(max_len)"
   ]
  },
  {
   "cell_type": "markdown",
   "metadata": {},
   "source": [
    "Time to create the table!\n"
   ]
  },
  {
   "cell_type": "code",
   "execution_count": 10,
   "metadata": {
    "collapsed": false
   },
   "outputs": [
    {
     "name": "stdout",
     "output_type": "stream",
     "text": [
      "['incident_number', 'offense_code', 'description', 'date', 'day_of_the_week', 'lat', 'long']\n",
      "['1', '619', 'LARCENY ALL OTHERS', '2018-09-02', 'Sunday', '42.35779134', '-71.13937053']\n"
     ]
    }
   ],
   "source": [
    "print(col_headers)\n",
    "print(first_row)"
   ]
  },
  {
   "cell_type": "markdown",
   "metadata": {},
   "source": [
    "The incident number is the unique key in this dataset. Two incidents cannot have the same number.\n",
    "\n",
    "Offence code is a small integer number, with a max length of 4, so I chose smallint.\n",
    "\n",
    "Decription is a pretty long field. The current max number of characters is 48, but the descriptions are pretty wordy, so I chose a length of 70 to accomdate for any new descriptions.\n",
    "\n",
    "Date is pretty self explanatory. I saved the date field as a date.\n",
    "\n",
    "Day of the week has a max length of 9, which is Wednesday.\n",
    "\n",
    "Latitude can only have 11 characters so I stored it as a variable text field of 11 characters.\n",
    "\n",
    "Longitude is also stored as a variable character field, but a length of 12."
   ]
  },
  {
   "cell_type": "code",
   "execution_count": 11,
   "metadata": {
    "collapsed": false
   },
   "outputs": [],
   "source": [
    "cur.execute(\n",
    "'''\n",
    "    CREATE TABLE crimes.boston_crimes (\n",
    "        incident_number TEXT PRIMARY KEY,\n",
    "        offense_code smallint,\n",
    "        description varchar(70),\n",
    "        date date,\n",
    "        day_of_the_week varchar(9),\n",
    "        lat varchar(11),\n",
    "        long varchar(12)\n",
    "    )\n",
    "'''\n",
    ")\n"
   ]
  },
  {
   "cell_type": "code",
   "execution_count": 22,
   "metadata": {
    "collapsed": true
   },
   "outputs": [],
   "source": [
    "conn.commit()"
   ]
  },
  {
   "cell_type": "markdown",
   "metadata": {},
   "source": [
    "## Load Data into the Boston Crimes Table"
   ]
  },
  {
   "cell_type": "code",
   "execution_count": 23,
   "metadata": {
    "collapsed": false
   },
   "outputs": [],
   "source": [
    "with open(\"boston.csv\") as f:\n",
    "    cur.copy_expert(\"COPY crimes.boston_crimes FROM STDIN WITH CSV HEADER;\", f)\n",
    "\n",
    "conn.commit()"
   ]
  },
  {
   "cell_type": "code",
   "execution_count": 26,
   "metadata": {
    "collapsed": false
   },
   "outputs": [
    {
     "name": "stdout",
     "output_type": "stream",
     "text": [
      "[('1', 619, 'LARCENY ALL OTHERS', datetime.date(2018, 9, 2), 'Sunday', '42.35779134', '-71.13937053')]\n"
     ]
    }
   ],
   "source": [
    "# Verify it worked\n",
    "cur.execute(\"SELECT * FROM crimes.boston_crimes LIMIT 1\")\n",
    "print(cur.fetchall())"
   ]
  },
  {
   "cell_type": "markdown",
   "metadata": {},
   "source": [
    "# Create Groups and Users"
   ]
  },
  {
   "cell_type": "markdown",
   "metadata": {},
   "source": [
    "As mentioned earlier, I want to create two groups: readonly and readwrite. Data analysts will use the readonly group while data scientists use the readwrite group."
   ]
  },
  {
   "cell_type": "markdown",
   "metadata": {},
   "source": [
    "### Create the two groups"
   ]
  },
  {
   "cell_type": "code",
   "execution_count": 27,
   "metadata": {
    "collapsed": true
   },
   "outputs": [],
   "source": [
    "# Ensure that no privileges were inherited from the public group and public schema.\n",
    "cur.execute(\"REVOKE ALL ON SCHEMA public FROM public\")\n",
    "cur.execute(\"REVOKE ALL ON DATABASE crimes_db FROM public\")\n",
    "conn.commit()"
   ]
  },
  {
   "cell_type": "code",
   "execution_count": 28,
   "metadata": {
    "collapsed": true
   },
   "outputs": [],
   "source": [
    "# Create the read only group and grant the select privilege only\n",
    "cur.execute(\"CREATE GROUP readonly NOLOGIN\")\n",
    "\n",
    "# Grant the privileges\n",
    "cur.execute(\"GRANT SELECT ON ALL TABLES IN SCHEMA crimes TO readonly\")\n",
    "\n",
    "cur.execute(\"GRANT CONNECT ON DATABASE crimes_db TO readonly\")\n",
    "\n",
    "cur.execute(\"GRANT USAGE ON SCHEMA crimes TO readonly\")\n",
    "\n",
    "conn.commit()"
   ]
  },
  {
   "cell_type": "code",
   "execution_count": 29,
   "metadata": {
    "collapsed": true
   },
   "outputs": [],
   "source": [
    "# Create the readwrite group and grant the select, insert, delete, updates privileges\n",
    "cur.execute(\"CREATE GROUP readwrite NOLOGIN\")\n",
    "\n",
    "# Grant the privileges\n",
    "cur.execute(\"GRANT SELECT,DELETE,UPDATE, INSERT ON ALL TABLES IN SCHEMA crimes TO readwrite\")\n",
    "\n",
    "cur.execute(\"GRANT CONNECT ON DATABASE crimes_db TO readwrite\")\n",
    "\n",
    "cur.execute(\"GRANT USAGE ON SCHEMA crimes TO readwrite\")\n",
    "\n",
    "conn.commit()"
   ]
  },
  {
   "cell_type": "markdown",
   "metadata": {},
   "source": [
    "### Create two users"
   ]
  },
  {
   "cell_type": "markdown",
   "metadata": {},
   "source": [
    "Create two users: data_analyst (readonly) and data_scient (readwrite)"
   ]
  },
  {
   "cell_type": "code",
   "execution_count": 30,
   "metadata": {
    "collapsed": true
   },
   "outputs": [],
   "source": [
    "# Create data_analyst\n",
    "cur.execute(\"CREATE USER data_analyst WITH PASSWORD 'secret1'\")\n",
    "\n",
    "# add data_analyst to readonly group\n",
    "cur.execute(\"GRANT readonly TO data_analyst\")\n",
    "\n",
    "# Create data_scientist\n",
    "cur.execute(\"CREATE USER data_scientist WITH PASSWORD 'secret2'\")\n",
    "\n",
    "# Assign data_scientist to readwrite\n",
    "cur.execute(\"GRANT readwrite TO data_scientist\")\n",
    "\n",
    "conn.commit()"
   ]
  },
  {
   "cell_type": "markdown",
   "metadata": {},
   "source": [
    "Check that priviliges worked"
   ]
  },
  {
   "cell_type": "code",
   "execution_count": 31,
   "metadata": {
    "collapsed": false
   },
   "outputs": [
    {
     "name": "stdout",
     "output_type": "stream",
     "text": [
      "[('readonly', 'SELECT'), ('readwrite', 'INSERT'), ('readwrite', 'SELECT'), ('readwrite', 'UPDATE'), ('readwrite', 'DELETE')]\n"
     ]
    }
   ],
   "source": [
    "cur.execute('''\n",
    "SELECT grantee, privilege_type\n",
    "FROM information_schema.table_privileges\n",
    "WHERE grantee IN ('readonly', 'readwrite')\n",
    "''')\n",
    "\n",
    "print(cur.fetchall())"
   ]
  }
 ],
 "metadata": {
  "kernelspec": {
   "display_name": "Python 3",
   "language": "python",
   "name": "python3"
  },
  "language_info": {
   "codemirror_mode": {
    "name": "ipython",
    "version": 3
   },
   "file_extension": ".py",
   "mimetype": "text/x-python",
   "name": "python",
   "nbconvert_exporter": "python",
   "pygments_lexer": "ipython3",
   "version": "3.4.3"
  }
 },
 "nbformat": 4,
 "nbformat_minor": 2
}
